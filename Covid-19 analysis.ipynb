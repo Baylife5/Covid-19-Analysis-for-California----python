{
 "metadata": {
  "language_info": {
   "codemirror_mode": {
    "name": "ipython",
    "version": 3
   },
   "file_extension": ".py",
   "mimetype": "text/x-python",
   "name": "python",
   "nbconvert_exporter": "python",
   "pygments_lexer": "ipython3",
   "version": 3
  },
  "orig_nbformat": 2
 },
 "nbformat": 4,
 "nbformat_minor": 2,
 "cells": [
  {
   "cell_type": "code",
   "execution_count": null,
   "metadata": {},
   "outputs": [],
   "source": [
    "import numpy as np\n",
    "import pandas as pd\n",
    "import matplotlib.pyplot as plt"
   ]
  },
  {
   "cell_type": "code",
   "execution_count": null,
   "metadata": {},
   "outputs": [],
   "source": [
    "''' extract the data from the csv file'''\n",
    "data = pd.read_csv(\"california-history.csv\")\n",
    "\n",
    "\n",
    "# list the columns within the data file\n",
    "print(\"\\n\\nThe columns with the data file are: \\n\\n\", data.columns, \"\\n\\n\")\n",
    "print(\"\\n\\n The are currently\", len(data.columns), \"columns with the CSV file to choose from\\n\\n\")"
   ]
  },
  {
   "cell_type": "code",
   "execution_count": null,
   "metadata": {},
   "outputs": [],
   "source": [
    "#columns of interest \n",
    "diction = ['date', 'state', 'death',\n",
    "       'hospitalizedCurrently', 'hospitalizedIncrease',\n",
    "       'inIcuCurrently', 'negativeIncrease',\n",
    "       'positive', 'positiveCasesViral', 'positiveIncrease', 'positiveScore',\n",
    "       'totalTestEncountersViralIncrease', 'totalTestResults',\n",
    "       'totalTestResultsIncrease','totalTestsPeopleViralIncrease',\n",
    "       'totalTestsViral', 'totalTestsViralIncrease']\n",
    "\n",
    "s = []\n",
    "l = []\n",
    "a = 10"
   ]
  },
  {
   "cell_type": "code",
   "execution_count": null,
   "metadata": {},
   "outputs": [],
   "source": [
    "# decramenting for loop to retieve only the date's and death's of interest \n",
    "for i in range(13,7,-1):\n",
    "   s.append(data['date'].iloc[i])\n",
    "   l.append(data['death'].iloc[i])"
   ]
  },
  {
   "cell_type": "code",
   "execution_count": null,
   "metadata": {},
   "outputs": [],
   "source": [
    "#plot the data on a scatter plot and show the difference \n",
    "plt.scatter(s , l, marker=\".\" , color = \"blue\")\n",
    "plt.title('covid-19 death toll california from: '+ str(data['date'].iloc[13])+ ' - ' + str(data['date'].iloc[8]))\n",
    "plt.show()"
   ]
  },
  {
   "cell_type": "code",
   "execution_count": null,
   "metadata": {},
   "outputs": [],
   "source": [
    "for i in range(13,7,-1):\n",
    "        print(data[diction].iloc[i],\"\\n\\n\")\n",
    "\n",
    "# print the difference between the largest change of values\n",
    "print(\"Date: \", data['date'].iloc[10],\"to\", data['date'].iloc[11],\" Has a death difference of \",\n",
    "data['death'].iloc[10] - data['death'].iloc[11], \" this is the largest gap for the \",13 - 7,\"indices chosen \\n\\n\")"
   ]
  }
 ]
}